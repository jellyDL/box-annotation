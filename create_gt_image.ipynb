{
 "cells": [
  {
   "cell_type": "code",
   "execution_count": 133,
   "metadata": {},
   "outputs": [],
   "source": [
    "import cv2\n",
    "import os\n",
    "import json\n",
    "import numpy as np\n"
   ]
  },
  {
   "cell_type": "code",
   "execution_count": 134,
   "metadata": {},
   "outputs": [],
   "source": [
    "def ReadDataFromJson(js_file):\n",
    "    print(\"###\", js_file)\n",
    "    points = []\n",
    "    with open(js_file, \"r\", encoding='utf-8') as f:\n",
    "        js = json.loads(f.read())\n",
    "        js_points = js[\"shapes\"][0][\"points\"]\n",
    "        for p in range(0, len(js_points)):\n",
    "            points.append(js_points[p])\n",
    "    return points"
   ]
  },
  {
   "cell_type": "code",
   "execution_count": 135,
   "metadata": {},
   "outputs": [
    {
     "name": "stdout",
     "output_type": "stream",
     "text": [
      "### 1501659352880_a7aizcyqbxa93dwn.json\n",
      "8\n",
      "### 1501659352880_zsp39yg2npvr24ne.json\n",
      "8\n",
      "### 1501659352880_zc6yj9xi9qvxdsda.json\n",
      "8\n",
      "### 1501659352880_gaeiaidl2z5iyv4o.json\n",
      "8\n",
      "### 1501659352880_49djbw8mk31x2rwp.json\n",
      "8\n"
     ]
    }
   ],
   "source": [
    "if __name__ == '__main__':\n",
    "    path = \"./\"\n",
    "    imglist = []\n",
    "    files = os.listdir(path)\n",
    "    for file in files:\n",
    "        if file.endswith('jpg'):\n",
    "            imglist.append(file)\n",
    "    '''\n",
    "    ###原图像上划线\n",
    "    for img_file in imglist:\n",
    "        img = cv2.imread(img_file)\n",
    "        js_file = img_file[0:-3]+\"json\";\n",
    "        js_points = ReadDataFromJson(js_file)\n",
    "        print(len(js_points))\n",
    "        for j in range(0, len(js_points)-1):\n",
    "            cv2.line(img, (int(js_points[j][0]),int(js_points[j][1])), \n",
    "                     (int(js_points[j+1][0]),int(js_points[j+1][1])), (255, 0, 0),3)\n",
    "        cv2.line(img, (int(js_points[0][0]),int(js_points[0][1])), \n",
    "                     (int(js_points[len(js_points)-1][0]),int(js_points[len(js_points)-1][1])), (255, 0, 0),3)\n",
    "        cv2.imwrite(img_file[0:-4]+\"_L.jpg\",img)\n",
    "    '''\n",
    "    for img_file in imglist:\n",
    "        img = cv2.imread(img_file)\n",
    "        img_gt = np.zeros((img.shape[0], img.shape[1]), np.uint8)#生成一个空灰度图像\n",
    "        js_file = img_file[0:-3]+\"json\";\n",
    "        js_points = ReadDataFromJson(js_file)\n",
    "        print(len(js_points))\n",
    "        for j in range(0, len(js_points)-1):\n",
    "            cv2.line(img_gt, (int(js_points[j][0]),int(js_points[j][1])), \n",
    "                     (int(js_points[j+1][0]),int(js_points[j+1][1])), (255, 0, 0),3)\n",
    "        cv2.line(img_gt, (int(js_points[0][0]),int(js_points[0][1])), \n",
    "                     (int(js_points[len(js_points)-1][0]),int(js_points[len(js_points)-1][1])), (255, 0, 0),3)\n",
    "        cv2.imwrite(img_file[0:-4]+\"_gt.jpg\", img_gt)"
   ]
  },
  {
   "cell_type": "code",
   "execution_count": null,
   "metadata": {},
   "outputs": [],
   "source": []
  },
  {
   "cell_type": "code",
   "execution_count": null,
   "metadata": {},
   "outputs": [],
   "source": []
  }
 ],
 "metadata": {
  "kernelspec": {
   "display_name": "Python 3",
   "language": "python",
   "name": "python3"
  },
  "language_info": {
   "codemirror_mode": {
    "name": "ipython",
    "version": 3
   },
   "file_extension": ".py",
   "mimetype": "text/x-python",
   "name": "python",
   "nbconvert_exporter": "python",
   "pygments_lexer": "ipython3",
   "version": "3.6.4"
  }
 },
 "nbformat": 4,
 "nbformat_minor": 2
}
