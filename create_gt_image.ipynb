{
 "cells": [
  {
   "cell_type": "code",
   "execution_count": 44,
   "metadata": {},
   "outputs": [],
   "source": [
    "import cv2\n",
    "import os\n",
    "import json\n",
    "import numpy as np\n"
   ]
  },
  {
   "cell_type": "code",
   "execution_count": 52,
   "metadata": {},
   "outputs": [],
   "source": [
    "def ReadDataFromJson(js_file):\n",
    "    #print(\"###\", js_file)\n",
    "    points = []\n",
    "    with open(js_file, \"r\", encoding='utf-8') as f:\n",
    "        js = json.loads(f.read())\n",
    "        js_points = js[\"shapes\"][0][\"points\"]\n",
    "        for p in range(0, len(js_points)):\n",
    "            points.append(js_points[p])\n",
    "    return points"
   ]
  },
  {
   "cell_type": "code",
   "execution_count": 54,
   "metadata": {},
   "outputs": [
    {
     "name": "stdout",
     "output_type": "stream",
     "text": [
      "#####  1501659352880_a7aizcyqbxa93dwn.jpg\n",
      "resize w= 800  h= 600\n",
      "#####  1501659352880_zsp39yg2npvr24ne.jpg\n",
      "resize w= 800  h= 600\n",
      "#####  1501659352880_zc6yj9xi9qvxdsda.jpg\n",
      "resize w= 800  h= 600\n",
      "#####  1501659352880_gaeiaidl2z5iyv4o.jpg\n",
      "resize w= 800  h= 600\n",
      "#####  1501659352880_49djbw8mk31x2rwp.jpg\n",
      "resize w= 800  h= 600\n"
     ]
    }
   ],
   "source": [
    "img_annot_path = \"./idcard_annotions/\" \n",
    "img_data_path = \"./idcard_data/\"\n",
    "img_gt_path = \"./idcard_gt/\"\n",
    "\n",
    "if(os.path.exists(img_annot_path)!=True):\n",
    "    print(img_annot_path,\" not exist!\")\n",
    "    exit(0)\n",
    "    \n",
    "if(os.path.exists(img_data_path)!=True):\n",
    "    os.mkdir(img_data_path)\n",
    "if(os.path.exists(img_gt_path)!=True):\n",
    "    os.mkdir(img_gt_path)\n",
    "\n",
    "img_list = []\n",
    "files = os.listdir(img_annot_path)\n",
    "for file in files:\n",
    "    if file.endswith('jpg'):\n",
    "        img_list.append(file)\n",
    "'''\n",
    "###原图像上划线\n",
    "for img_file in img_list:\n",
    "    img = cv2.imread(img_file)\n",
    "    js_file = img_file[0:-3]+\"json\";\n",
    "    js_points = ReadDataFromJson(js_file)\n",
    "    print(len(js_points))\n",
    "    for j in range(0, len(js_points)-1):\n",
    "        cv2.line(img, (int(js_points[j][0]),int(js_points[j][1])), \n",
    "                 (int(js_points[j+1][0]),int(js_points[j+1][1])), (255, 0, 0),3)\n",
    "    cv2.line(img, (int(js_points[0][0]),int(js_points[0][1])), \n",
    "                 (int(js_points[len(js_points)-1][0]),int(js_points[len(js_points)-1][1])), (255, 0, 0),3)\n",
    "    cv2.imwrite(img_file[0:-4]+\"_L.jpg\",img)\n",
    "'''\n",
    "for img_file in img_list:\n",
    "    print(\"##### \",img_file)\n",
    "    img = cv2.imread(img_annot_path + img_file)\n",
    "\n",
    "    w = img.shape[1]\n",
    "    h = img.shape[0]   \n",
    "    \n",
    "    ### resize\n",
    "    max_len = 800\n",
    "    if(w > h):\n",
    "        res_w = max_len\n",
    "        res_h = int(max_len * h / w)\n",
    "    else:\n",
    "        res_h = max_len\n",
    "        res_w = int(max_len * w / h)\n",
    "    print(\"resize w=\",res_w,\" h=\",res_h)\n",
    "    img = cv2.resize(img, (res_w, res_h), interpolation=cv2.INTER_LINEAR)\n",
    "    cv2.imwrite(img_data_path + img_file, img)\n",
    "     \n",
    "    img_gt = np.zeros((res_h, res_w), np.uint8)#生成一个空灰度图像\n",
    "    js_file = img_annot_path + img_file[0:-3]+\"json\";\n",
    "    js_points = ReadDataFromJson(js_file)\n",
    "    for j in range(0, len(js_points)-1):\n",
    "        pt1_x = int(js_points[j][0] / w * res_w);\n",
    "        pt1_y = int(js_points[j][1] / h * res_h);\n",
    "        pt2_x = int(js_points[j+1][0] / w * res_w);\n",
    "        pt2_y = int(js_points[j+1][1] / h * res_h);\n",
    "        cv2.line(img_gt, (pt1_x, pt1_y), (pt2_x, pt2_y), (255, 0, 0),3)\n",
    "    pt1_x = int(js_points[0][0] / w * res_w);\n",
    "    pt1_y = int(js_points[0][1] / h * res_h);\n",
    "    pt2_x = int(js_points[len(js_points)-1][0] / w * res_w);\n",
    "    pt2_y = int(js_points[len(js_points)-1][1] / h * res_h);\n",
    "    cv2.line(img_gt, (pt1_x, pt1_y), (pt2_x, pt2_y), (255, 0, 0),3)\n",
    "    cv2.imwrite(img_gt_path + img_file, img_gt)\n"
   ]
  },
  {
   "cell_type": "code",
   "execution_count": null,
   "metadata": {},
   "outputs": [],
   "source": []
  },
  {
   "cell_type": "code",
   "execution_count": null,
   "metadata": {},
   "outputs": [],
   "source": []
  }
 ],
 "metadata": {
  "kernelspec": {
   "display_name": "Python 3",
   "language": "python",
   "name": "python3"
  },
  "language_info": {
   "codemirror_mode": {
    "name": "ipython",
    "version": 3
   },
   "file_extension": ".py",
   "mimetype": "text/x-python",
   "name": "python",
   "nbconvert_exporter": "python",
   "pygments_lexer": "ipython3",
   "version": "3.6.4"
  }
 },
 "nbformat": 4,
 "nbformat_minor": 2
}
